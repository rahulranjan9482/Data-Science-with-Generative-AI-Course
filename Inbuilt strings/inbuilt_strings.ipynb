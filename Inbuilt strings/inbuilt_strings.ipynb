{
 "cells": [
  {
   "cell_type": "markdown",
   "metadata": {},
   "source": [
    "Q1:- What is the purpose of the len() function in Python, and how can it be used with strings?"
   ]
  },
  {
   "cell_type": "markdown",
   "metadata": {},
   "source": [
    "\n",
    "The len() function in Python is used to determine the length of an object. For strings specifically, len() returns the number of characters in the string, including spaces and punctuation."
   ]
  },
  {
   "cell_type": "code",
   "execution_count": 1,
   "metadata": {},
   "outputs": [
    {
     "name": "stdout",
     "output_type": "stream",
     "text": [
      "Length of the string: 13\n"
     ]
    }
   ],
   "source": [
    "my_string = \"Hello, World!\"\n",
    "length = len(my_string)\n",
    "print(\"Length of the string:\", length)"
   ]
  },
  {
   "cell_type": "markdown",
   "metadata": {},
   "source": [
    "Q2:- How can you concatenate two or more strings in Python, and can you provide an example of string concatenation?"
   ]
  },
  {
   "cell_type": "markdown",
   "metadata": {},
   "source": [
    "\n",
    "In Python, you can concatenate two or more strings using the + operator or the str.join() method."
   ]
  },
  {
   "cell_type": "markdown",
   "metadata": {},
   "source": [
    "Here's how you can use the + operator for string concatenation:"
   ]
  },
  {
   "cell_type": "code",
   "execution_count": 2,
   "metadata": {},
   "outputs": [
    {
     "name": "stdout",
     "output_type": "stream",
     "text": [
      "Hello, World!\n"
     ]
    }
   ],
   "source": [
    "str1 = \"Hello\"\n",
    "str2 = \"World\"\n",
    "concatenated_string = str1 + \", \" + str2 + \"!\"\n",
    "print(concatenated_string)"
   ]
  },
  {
   "cell_type": "markdown",
   "metadata": {},
   "source": [
    "here's how you can use the str.join() method for concatenation:"
   ]
  },
  {
   "cell_type": "code",
   "execution_count": 3,
   "metadata": {},
   "outputs": [
    {
     "name": "stdout",
     "output_type": "stream",
     "text": [
      "Hello, World!\n"
     ]
    }
   ],
   "source": [
    "str1 = \"Hello\"\n",
    "str2 = \"World\"\n",
    "concatenated_string = \", \".join([str1, str2]) + \"!\"\n",
    "print(concatenated_string)"
   ]
  },
  {
   "cell_type": "markdown",
   "metadata": {},
   "source": [
    "Q3:- What is string slicing in Python, and how can you extract a portion of a string using this method?"
   ]
  },
  {
   "cell_type": "markdown",
   "metadata": {},
   "source": [
    "\n",
    "String slicing in Python is a technique used to extract a portion of a string by specifying a range of indices. The syntax for string slicing is:"
   ]
  },
  {
   "cell_type": "markdown",
   "metadata": {},
   "source": [
    "string[start_index:end_index:step]"
   ]
  },
  {
   "cell_type": "markdown",
   "metadata": {},
   "source": [
    "start_index: The index at which the slicing starts. It is inclusive.\n",
    "\n",
    "end_index: The index at which the slicing ends. It is exclusive.\n",
    "\n",
    "step (optional): The step or increment value for slicing. It specifies how many characters to skip. The default value is 1."
   ]
  },
  {
   "cell_type": "code",
   "execution_count": 5,
   "metadata": {},
   "outputs": [
    {
     "name": "stdout",
     "output_type": "stream",
     "text": [
      "Hello\n",
      "World!\n",
      "Hlo ol!\n",
      "!dlroW ,olleH\n"
     ]
    }
   ],
   "source": [
    "my_string = \"Hello, World!\"\n",
    "\n",
    "substring1 = my_string[0:5]\n",
    "print(substring1)  \n",
    "substring2 = my_string[7:]\n",
    "print(substring2) \n",
    "substring3 = my_string[::2]\n",
    "print(substring3) \n",
    "reversed_string = my_string[::-1]\n",
    "print(reversed_string) "
   ]
  },
  {
   "cell_type": "markdown",
   "metadata": {},
   "source": [
    "Q4:-  How can you change the case of a string in Python, and can you provide examples of both making a string all uppercase and all lowercase?"
   ]
  },
  {
   "cell_type": "markdown",
   "metadata": {},
   "source": [
    "In Python, you can change the case of a string using the upper() and lower() methods.\n",
    "\n",
    "upper(): Converts all characters in the string to uppercase.\n",
    "\n",
    "lower(): Converts all characters in the string to lowercase.\n",
    "\n",
    "Here are examples of both making a string all uppercase and all lowercase:"
   ]
  },
  {
   "cell_type": "code",
   "execution_count": 6,
   "metadata": {},
   "outputs": [
    {
     "name": "stdout",
     "output_type": "stream",
     "text": [
      "HELLO, WORLD!\n",
      "hello, world!\n"
     ]
    }
   ],
   "source": [
    "my_string = \"Hello, World!\"\n",
    "uppercase_string = my_string.upper()\n",
    "print(uppercase_string) \n",
    "lowercase_string = my_string.lower()\n",
    "print(lowercase_string)  "
   ]
  },
  {
   "cell_type": "markdown",
   "metadata": {},
   "source": [
    "Q5:-  What does the split() method do in Python, and how can you split a string using a specific delimiter?"
   ]
  },
  {
   "cell_type": "markdown",
   "metadata": {},
   "source": [
    "The split() method in Python is used to split a string into a list of substrings based on a specified delimiter. By default, if no delimiter is provided, it splits the string using whitespace characters (spaces, tabs, and newlines).\n",
    "\n",
    "The syntax for the split() method is:\n",
    "\n",
    "string.split(separator, maxsplit)\n",
    "\n",
    "separator (optional): The delimiter used to split the string. If not specified, whitespace characters are used.\n",
    "\n",
    "maxsplit (optional): An integer specifying the maximum number of splits to perform. If provided, the string is split at most maxsplit - 1 times.\n",
    "\n",
    "Here's an example of splitting a string using a specific delimiter:"
   ]
  },
  {
   "cell_type": "code",
   "execution_count": 7,
   "metadata": {},
   "outputs": [
    {
     "name": "stdout",
     "output_type": "stream",
     "text": [
      "['apple', 'banana', 'orange', 'grapes']\n"
     ]
    }
   ],
   "source": [
    "my_string = \"apple,banana,orange,grapes\"\n",
    "fruits_list = my_string.split(',')\n",
    "print(fruits_list)  "
   ]
  }
 ],
 "metadata": {
  "kernelspec": {
   "display_name": "Python 3",
   "language": "python",
   "name": "python3"
  },
  "language_info": {
   "codemirror_mode": {
    "name": "ipython",
    "version": 3
   },
   "file_extension": ".py",
   "mimetype": "text/x-python",
   "name": "python",
   "nbconvert_exporter": "python",
   "pygments_lexer": "ipython3",
   "version": "3.12.2"
  }
 },
 "nbformat": 4,
 "nbformat_minor": 2
}
