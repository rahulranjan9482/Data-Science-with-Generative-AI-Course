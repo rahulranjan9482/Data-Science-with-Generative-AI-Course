{
 "cells": [
  {
   "cell_type": "markdown",
   "metadata": {},
   "source": [
    "Q1:- Calculate the sum, difference, product, and quotient of two numbers."
   ]
  },
  {
   "cell_type": "code",
   "execution_count": 4,
   "metadata": {},
   "outputs": [
    {
     "name": "stdout",
     "output_type": "stream",
     "text": [
      "Sum is :  16\n",
      "difference is :  8\n",
      "product is :  48\n",
      "quotient is :  3.0\n"
     ]
    }
   ],
   "source": [
    "num1 = int(input(\"Enter first number: \"))\n",
    "num2 = int(input(\"Enter second number: \"))\n",
    "sum = num1+num2\n",
    "difference = num1 - num2\n",
    "product = num1*num2\n",
    "quotient = num1/num2\n",
    "print (\"Sum is : \",sum)\n",
    "print(\"difference is : \",difference)\n",
    "print(\"product is : \",product)\n",
    "print(\"quotient is : \",quotient)"
   ]
  },
  {
   "cell_type": "markdown",
   "metadata": {},
   "source": [
    "Q2:- Perform various assignment operations on a variable."
   ]
  },
  {
   "cell_type": "code",
   "execution_count": 7,
   "metadata": {},
   "outputs": [
    {
     "name": "stdout",
     "output_type": "stream",
     "text": [
      "After addition: 15\n",
      "After subtraction: 12\n",
      "After multiplication: 24\n",
      "After division: 6.0\n"
     ]
    }
   ],
   "source": [
    "#Assignment (=)\n",
    "num = 10\n",
    "\n",
    "#addition Assignment(+=)\n",
    "num += 5\n",
    "print(\"After addition:\", num)\n",
    "\n",
    "#subtract Assignment(-=)\n",
    "num -= 3\n",
    "print(\"After subtraction:\", num)\n",
    "\n",
    "#Multiple Assignment(*=)\n",
    "num *= 2 \n",
    "print(\"After multiplication:\", num)\n",
    "\n",
    "#Division Assignment(/=)\n",
    "num /= 4\n",
    "print(\"After division:\", num)\n"
   ]
  },
  {
   "cell_type": "markdown",
   "metadata": {},
   "source": [
    "Q3:- Compare two numbers and print the results."
   ]
  },
  {
   "cell_type": "code",
   "execution_count": 8,
   "metadata": {},
   "outputs": [
    {
     "name": "stdout",
     "output_type": "stream",
     "text": [
      "First number is less than second numner\n"
     ]
    }
   ],
   "source": [
    "#Compare two number\n",
    "num1 = int(input(\"Enter the first number: \"))\n",
    "num2 = int(input(\"Enter the second number: \"))\n",
    "if num1==num2:\n",
    "    print(\"Both numbers are equal\")\n",
    "elif num1>num2:\n",
    "    print(\"First number is greater than second number\")  \n",
    "else:\n",
    "    print(\"First number is less than second number\")      "
   ]
  },
  {
   "cell_type": "markdown",
   "metadata": {},
   "source": [
    "Q4:- Check conditions using logical operators."
   ]
  },
  {
   "cell_type": "code",
   "execution_count": 9,
   "metadata": {},
   "outputs": [
    {
     "name": "stdout",
     "output_type": "stream",
     "text": [
      "num1 is less than both num2 and num3\n"
     ]
    }
   ],
   "source": [
    "# Check conditions using logical operators\n",
    "num1 = int(input(\"Enter the first number: \"))\n",
    "num2 = int(input(\"Enter the second number: \"))\n",
    "num3 = int(input(\"Enter the third number\"))\n",
    "if num1 < num2 and num1 < num3:\n",
    "    print(\"num1 is less than both num2 and num3\")\n",
    "elif num1 < num2 or num1 < num3:\n",
    "    print(\"num1 is less than either num2 or num3\")\n",
    "else:\n",
    "    print(\"num1 is not less than num2 or num3\")"
   ]
  },
  {
   "cell_type": "markdown",
   "metadata": {},
   "source": [
    "Q5:- Check the identity of Variables"
   ]
  },
  {
   "cell_type": "code",
   "execution_count": 11,
   "metadata": {},
   "outputs": [
    {
     "name": "stdout",
     "output_type": "stream",
     "text": [
      "x is y: True\n",
      "x is not y: False\n"
     ]
    }
   ],
   "source": [
    "# Check the identity operators\n",
    "x = 4\n",
    "y = x\n",
    "# Use \"is\" operators\n",
    "print(\"x is y:\", x is y)\n",
    "# use \"is not \"operators\n",
    "print(\"x is not y:\", x is not y)"
   ]
  },
  {
   "cell_type": "markdown",
   "metadata": {},
   "source": [
    "Q6:- Perform bitwise operations on any two integers"
   ]
  },
  {
   "cell_type": "code",
   "execution_count": 14,
   "metadata": {},
   "outputs": [
    {
     "name": "stdout",
     "output_type": "stream",
     "text": [
      "Bitwise AND: 0\n",
      "Bitwise OR: 15\n",
      "Bitwise XOR: 15\n",
      "Bitwise NOT (num1): -11\n",
      "Bitwise NOT (num2): -6\n",
      "Left Shift (num1): 40\n",
      "Right Shift (num2): 2\n"
     ]
    }
   ],
   "source": [
    "#bitwise operations\n",
    "num1 = 10 \n",
    "num2 = 5 \n",
    "\n",
    "# Bitwise AND\n",
    "CHeck_and = num1 & num2 \n",
    "print(\"Bitwise AND:\",CHeck_and)\n",
    "\n",
    "# Bitwise OR\n",
    "Check_or = num1 | num2 \n",
    "print(\"Bitwise OR:\", Check_or)\n",
    "\n",
    "# Bitwise XOR\n",
    "xor = num1 ^ num2 \n",
    "print(\"Bitwise XOR:\",xor)\n",
    "\n",
    "# Bitwise NOT \n",
    "not_num1 = ~num1  \n",
    "not_num2 = ~num2   \n",
    "print(\"Bitwise NOT (num1):\", not_num1)\n",
    "print(\"Bitwise NOT (num2):\", not_num2)\n",
    "\n",
    "# Left Shift\n",
    "left_shift = num1 << 2\n",
    "print(\"Left Shift (num1):\", left_shift)\n",
    "\n",
    "# Right Shift\n",
    "right_shift = num2 >> 1\n",
    "print(\"Right Shift (num2):\", right_shift)\n"
   ]
  },
  {
   "cell_type": "markdown",
   "metadata": {},
   "source": [
    "Q7:- Use unary operators to change the sign of a number."
   ]
  },
  {
   "cell_type": "code",
   "execution_count": 15,
   "metadata": {},
   "outputs": [
    {
     "name": "stdout",
     "output_type": "stream",
     "text": [
      "Number after changing sign: -10\n"
     ]
    }
   ],
   "source": [
    "# Change the sign using unary operator\n",
    "number = 10\n",
    "number = -number\n",
    "print(\"Number after changing sign:\", number)"
   ]
  },
  {
   "cell_type": "markdown",
   "metadata": {},
   "source": [
    "Q8:- Use the ternary operator to assign Values based on conditions."
   ]
  },
  {
   "cell_type": "code",
   "execution_count": 16,
   "metadata": {},
   "outputs": [
    {
     "name": "stdout",
     "output_type": "stream",
     "text": [
      "x: 10\n",
      "y: 40\n"
     ]
    }
   ],
   "source": [
    "# Assign values based on the condition using the ternary operator\n",
    "condition = True\n",
    "x = 10 if condition else 20\n",
    "y = 30 if not condition else 40\n",
    "\n",
    "print(\"x:\", x)\n",
    "print(\"y:\", y)\n"
   ]
  }
 ],
 "metadata": {
  "kernelspec": {
   "display_name": "Python 3",
   "language": "python",
   "name": "python3"
  },
  "language_info": {
   "codemirror_mode": {
    "name": "ipython",
    "version": 3
   },
   "file_extension": ".py",
   "mimetype": "text/x-python",
   "name": "python",
   "nbconvert_exporter": "python",
   "pygments_lexer": "ipython3",
   "version": "3.12.2"
  }
 },
 "nbformat": 4,
 "nbformat_minor": 2
}
