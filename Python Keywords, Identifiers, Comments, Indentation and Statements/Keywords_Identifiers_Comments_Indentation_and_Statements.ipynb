{
 "cells": [
  {
   "cell_type": "markdown",
   "metadata": {},
   "source": [
    "Q1:-  Explain the significance of Python keywords and provide examples of five keywords.\n"
   ]
  },
  {
   "cell_type": "markdown",
   "metadata": {},
   "source": [
    "Ans:- Python keywords are reserved words that have specific meanings and functionalities within the Python language. They cannot be used as identifiersbecause they are already predefined for specific purposes. These keywords play a crucial role in defining the syntax and structure of Python code."
   ]
  },
  {
   "cell_type": "markdown",
   "metadata": {},
   "source": [
    "The signifiance of python keywords along with examples of five examples"
   ]
  },
  {
   "cell_type": "markdown",
   "metadata": {},
   "source": [
    "1. if: This keyword is used to perform conditional execution in Python. It is typically followed by a condition, and if the condition evaluates to True, the subsequent code block is executed."
   ]
  },
  {
   "cell_type": "code",
   "execution_count": 1,
   "metadata": {},
   "outputs": [
    {
     "name": "stdout",
     "output_type": "stream",
     "text": [
      "x is greater than 5\n"
     ]
    }
   ],
   "source": [
    "x = 10\n",
    "if x > 5:\n",
    "    print(\"x is greater than 5\")"
   ]
  },
  {
   "cell_type": "markdown",
   "metadata": {},
   "source": [
    "2. for: The for keyword is used to iterate over a sequence or any iterable object. It allows you to execute a block of code repeatedly for each item in the sequence."
   ]
  },
  {
   "cell_type": "code",
   "execution_count": 2,
   "metadata": {},
   "outputs": [
    {
     "name": "stdout",
     "output_type": "stream",
     "text": [
      "apple\n",
      "banana\n",
      "cherry\n"
     ]
    }
   ],
   "source": [
    "fruits = [\"apple\", \"banana\", \"cherry\"]\n",
    "for fruit in fruits:\n",
    "    print(fruit)"
   ]
  },
  {
   "cell_type": "markdown",
   "metadata": {},
   "source": [
    "3. def: This keyword is used to define a function in Python. It precedes the name of the function being defined and is followed by the parameters and a colon (:) before the function body."
   ]
  },
  {
   "cell_type": "code",
   "execution_count": 3,
   "metadata": {},
   "outputs": [],
   "source": [
    "def greet(name):\n",
    "    print(\"Hello, \" + name + \"!\")\n"
   ]
  },
  {
   "cell_type": "markdown",
   "metadata": {},
   "source": [
    "4. return: The return keyword is used inside a function to exit the function and return a value back to the caller. It can also be used to return None if no value is specified."
   ]
  },
  {
   "cell_type": "code",
   "execution_count": 4,
   "metadata": {},
   "outputs": [],
   "source": [
    "def add(x, y):\n",
    "    return x + y\n"
   ]
  },
  {
   "cell_type": "markdown",
   "metadata": {},
   "source": [
    "5. class: This keyword is used to define a new class in Python, which is a blueprint for creating objects. Classes encapsulate data for the object and methods for operating on that data."
   ]
  },
  {
   "cell_type": "code",
   "execution_count": 5,
   "metadata": {},
   "outputs": [],
   "source": [
    "class Dog:\n",
    "    def __init__(self, name):\n",
    "        self.name = name\n",
    "    \n",
    "    def bark(self):\n",
    "        print(self.name + \" says woof!\")\n"
   ]
  },
  {
   "cell_type": "markdown",
   "metadata": {},
   "source": [
    "Q2:-Describe the rules for defining identifiers in Python and provide an example."
   ]
  },
  {
   "cell_type": "markdown",
   "metadata": {},
   "source": [
    "Ans:- In Python, identifiers are names given to various elements in the code, such as variables, functions, classes, etc. They serve as labels for these elements, allowing you to reference and manipulate them throughout the program."
   ]
  },
  {
   "cell_type": "markdown",
   "metadata": {},
   "source": [
    "1. Valid Characters: Identifiers can consist of letters (both uppercase and lowercase), digits, and underscores (_)."
   ]
  },
  {
   "cell_type": "markdown",
   "metadata": {},
   "source": [
    "2. Case Sensitivity: Python is case-sensitive, meaning uppercase and lowercase letters are treated differently."
   ]
  },
  {
   "cell_type": "markdown",
   "metadata": {},
   "source": [
    "3. Reserved Keywords: Identifiers cannot be the same as Python keywords or reserved words, as they have predefined meanings in the language."
   ]
  },
  {
   "cell_type": "markdown",
   "metadata": {},
   "source": [
    "4. Special Characters: Identifiers cannot contain special characters such as punctuation symbols (!, @, #, $, etc.) or spaces."
   ]
  },
  {
   "cell_type": "markdown",
   "metadata": {},
   "source": [
    "Examples:- "
   ]
  },
  {
   "cell_type": "markdown",
   "metadata": {},
   "source": [
    "Valid identifiers"
   ]
  },
  {
   "cell_type": "code",
   "execution_count": 7,
   "metadata": {},
   "outputs": [
    {
     "name": "stdout",
     "output_type": "stream",
     "text": [
      "PWskills courses\n"
     ]
    }
   ],
   "source": [
    "_abc = \"PWskills courses\"  # Valid\n",
    "print(_abc)"
   ]
  },
  {
   "cell_type": "markdown",
   "metadata": {},
   "source": [
    "invalid identifiers"
   ]
  },
  {
   "cell_type": "code",
   "execution_count": 6,
   "metadata": {},
   "outputs": [
    {
     "ename": "SyntaxError",
     "evalue": "cannot assign to expression here. Maybe you meant '==' instead of '='? (216703037.py, line 1)",
     "output_type": "error",
     "traceback": [
      "\u001b[1;36m  Cell \u001b[1;32mIn[6], line 1\u001b[1;36m\u001b[0m\n\u001b[1;33m    a-bc = \"PWskills courses\"  # Invalid\u001b[0m\n\u001b[1;37m    ^\u001b[0m\n\u001b[1;31mSyntaxError\u001b[0m\u001b[1;31m:\u001b[0m cannot assign to expression here. Maybe you meant '==' instead of '='?\n"
     ]
    }
   ],
   "source": [
    "a-bc = \"PWskills courses\"  # Invalid\n",
    "print(a-bc)"
   ]
  },
  {
   "cell_type": "markdown",
   "metadata": {},
   "source": [
    "Q3:- What are comments in Python, and why are they useful? Provide an example."
   ]
  },
  {
   "cell_type": "markdown",
   "metadata": {},
   "source": [
    "Ans:- Comments in Python are text annotations within the code that are ignored by the interpreter during execution. They are used to add explanations, notes, or reminders directly within the source code. Comments are helpful for improving code readability, documenting functionality, and clarifying complex sections of code. They also serve as a communication tool for developers working on collaborative projects."
   ]
  },
  {
   "cell_type": "markdown",
   "metadata": {},
   "source": [
    "Example:- "
   ]
  },
  {
   "cell_type": "code",
   "execution_count": 8,
   "metadata": {},
   "outputs": [],
   "source": [
    "# This is a single-line comment\n",
    "\n",
    "variable = 22  # This comment explains the variable's value"
   ]
  },
  {
   "cell_type": "code",
   "execution_count": 9,
   "metadata": {},
   "outputs": [
    {
     "data": {
      "text/plain": [
       "'\\nThis is another method for making a multi-line comment.\\nUse triple double quotes if you prefer.\\n'"
      ]
     },
     "execution_count": 9,
     "metadata": {},
     "output_type": "execute_result"
    }
   ],
   "source": [
    "# Multi-Line Comments\n",
    "\n",
    "'''\n",
    "Physics Wallah is leading ed-tech in India.\n",
    "PWskills is a Tech entity of PW.\n",
    "\n",
    "'''\n",
    "\n",
    "\"\"\"\n",
    "This is another method for making a multi-line comment.\n",
    "Use triple double quotes if you prefer.\n",
    "\"\"\"\n"
   ]
  },
  {
   "cell_type": "code",
   "execution_count": 10,
   "metadata": {},
   "outputs": [],
   "source": [
    "# Docstring Comments\n",
    "\n",
    "def Physics_wallah(PWskills, IOI):\n",
    "    '''\n",
    "    This is a docstring for my_function.\n",
    "\n",
    "    :PWskills: Description of PWskills\n",
    "    :IOI: Description of IOI\n",
    "    :return: Description of the return value\n",
    "\n",
    "    '''\n",
    "    # Function code here"
   ]
  },
  {
   "cell_type": "markdown",
   "metadata": {},
   "source": [
    "Q4:- Why is proper indentation important in Python ?"
   ]
  },
  {
   "cell_type": "markdown",
   "metadata": {},
   "source": [
    "Ans:- - In Python, indentation is used to determine the structure and execution of code blocks.\n",
    "\n",
    "- The level of indentation indicates code blocks. Subordinate blocks are indented to the right of their parent blocks.\n",
    "\n",
    "- Indentation is used to separate code blocks in a variety of settings, including:\n",
    "    - Conditional statements (e.g., if, else, elif).\n",
    "    - Loop structures (e.g., for, while).\n",
    "    - Function and class definitions.\n",
    "    - Exception handling (e.g., try, except, finally).\n",
    "    - List comprehensions, dictionaries, and other compound data structures rely on indentation.\n"
   ]
  },
  {
   "cell_type": "markdown",
   "metadata": {},
   "source": [
    "Q5:- What happens if indentation is incorrect in Python?"
   ]
  },
  {
   "cell_type": "markdown",
   "metadata": {},
   "source": [
    "Ans:- \n",
    "In Python, indentation is crucial for defining the structure of the code, especially for control flow statements like loops and conditionals. If the indentation is incorrect, Python will raise an \"IndentationError\" when you try to run the code. This error indicates that the interpreter encountered an unexpected level of indentation"
   ]
  },
  {
   "cell_type": "markdown",
   "metadata": {},
   "source": [
    "Example:- "
   ]
  },
  {
   "cell_type": "code",
   "execution_count": 11,
   "metadata": {},
   "outputs": [
    {
     "ename": "IndentationError",
     "evalue": "expected an indented block after 'if' statement on line 1 (4085405025.py, line 2)",
     "output_type": "error",
     "traceback": [
      "\u001b[1;36m  Cell \u001b[1;32mIn[11], line 2\u001b[1;36m\u001b[0m\n\u001b[1;33m    print(\"Indentation is incorrect!\")\u001b[0m\n\u001b[1;37m    ^\u001b[0m\n\u001b[1;31mIndentationError\u001b[0m\u001b[1;31m:\u001b[0m expected an indented block after 'if' statement on line 1\n"
     ]
    }
   ],
   "source": [
    "if True:\n",
    "print(\"Indentation is incorrect!\")"
   ]
  },
  {
   "cell_type": "code",
   "execution_count": 12,
   "metadata": {},
   "outputs": [
    {
     "name": "stdout",
     "output_type": "stream",
     "text": [
      "Correct indentation!\n"
     ]
    }
   ],
   "source": [
    "if True:\n",
    "    print(\"Correct indentation!\")\n"
   ]
  },
  {
   "cell_type": "markdown",
   "metadata": {},
   "source": [
    "Q6:- Differentiate between expression and statement in Python with examples."
   ]
  },
  {
   "cell_type": "markdown",
   "metadata": {},
   "source": [
    "Ans:- Expression:\n",
    "-An expression is any piece of code that evaluates to a value. It can be a combination of variables, operators, and function calls that results in a single value. Expressions can be simple or complex."
   ]
  },
  {
   "cell_type": "code",
   "execution_count": 14,
   "metadata": {},
   "outputs": [],
   "source": [
    "x = 5 + 3          # Arithmetic expression\n",
    "y = 2 * (x - 1)    # Compound expression\n",
    "z = len(\"hello\")   # Function call expression"
   ]
  },
  {
   "cell_type": "markdown",
   "metadata": {},
   "source": [
    "Statement:\n",
    "-A statement is a complete line of code that performs some action. Unlike expressions, statements may not necessarily result in a value. Statements are instructions that Python executes."
   ]
  },
  {
   "cell_type": "code",
   "execution_count": 15,
   "metadata": {},
   "outputs": [
    {
     "name": "stdout",
     "output_type": "stream",
     "text": [
      "x is greater than 5\n"
     ]
    }
   ],
   "source": [
    "x = 5 + 3          # Assignment statement\n",
    "if x > 5:          # Conditional statement\n",
    "    print(\"x is greater than 5\")\n"
   ]
  }
 ],
 "metadata": {
  "kernelspec": {
   "display_name": "Python 3",
   "language": "python",
   "name": "python3"
  },
  "language_info": {
   "codemirror_mode": {
    "name": "ipython",
    "version": 3
   },
   "file_extension": ".py",
   "mimetype": "text/x-python",
   "name": "python",
   "nbconvert_exporter": "python",
   "pygments_lexer": "ipython3",
   "version": "3.12.2"
  }
 },
 "nbformat": 4,
 "nbformat_minor": 2
}
